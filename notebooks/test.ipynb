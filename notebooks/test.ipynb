{
 "cells": [
  {
   "cell_type": "code",
   "execution_count": 16,
   "metadata": {},
   "outputs": [
    {
     "name": "stdout",
     "output_type": "stream",
     "text": [
      "c:\\Users\\aresf\\Desktop\\Code\\HyperMask\\notebooks\n",
      "The autoreload extension is already loaded. To reload it, use:\n",
      "  %reload_ext autoreload\n"
     ]
    }
   ],
   "source": [
    "import torch\n",
    "import torch.nn as nn\n",
    "import torch.nn.functional as F\n",
    "\n",
    "import sys\n",
    "import os\n",
    "print(os.getcwd())\n",
    "sys.path.append(\"../\")\n",
    "\n",
    "from src.data_loader import get_combined_dataloaders\n",
    "from src.models import *\n",
    "\n",
    "import numpy as np\n",
    "import matplotlib.pyplot as plt\n",
    "\n",
    "%matplotlib inline\n",
    "%load_ext autoreload\n",
    "%autoreload 2"
   ]
  },
  {
   "cell_type": "code",
   "execution_count": 2,
   "metadata": {},
   "outputs": [],
   "source": [
    "device = \"cuda\" if torch.cuda.is_available() else \"cpu\""
   ]
  },
  {
   "cell_type": "code",
   "execution_count": 3,
   "metadata": {},
   "outputs": [
    {
     "name": "stdout",
     "output_type": "stream",
     "text": [
      "Files already downloaded and verified\n",
      "Files already downloaded and verified\n",
      "Files already downloaded and verified\n",
      "Files already downloaded and verified\n"
     ]
    }
   ],
   "source": [
    "dataset_names = [\"mnist\", \"omniglot\", \"fashion_mnist\", \"cifar10\"]\n",
    "train_loader, test_loader = get_combined_dataloaders(\n",
    "    dataset_names, batch_size=128, equal_samples=True\n",
    ")"
   ]
  },
  {
   "cell_type": "code",
   "execution_count": 9,
   "metadata": {},
   "outputs": [],
   "source": [
    "x, y = next(iter(train_loader))"
   ]
  },
  {
   "cell_type": "code",
   "execution_count": 17,
   "metadata": {},
   "outputs": [],
   "source": [
    "class GatedConvNet(nn.Module):\n",
    "    def __init__(self, in_channels=1, out_channels=6, kernel_size=5):\n",
    "        super(GatedConvNet, self).__init__()\n",
    "        self.hyper = HyperNetwork(in_channels, out_channels, kernel_size)\n",
    "        self.primary = PrimaryNetwork(in_channels, out_channels, kernel_size)\n",
    "\n",
    "    def apply_primary(self, sample, sample_mask):\n",
    "        return self.primary(\n",
    "            sample.unsqueeze(0), sample_mask.view_as(self.primary.conv.weight)\n",
    "        )\n",
    "\n",
    "    def forward(self, x):\n",
    "        masks = self.hyper(x)\n",
    "        return vmap(self.apply_primary)(x, masks).squeeze(1)"
   ]
  },
  {
   "cell_type": "code",
   "execution_count": 18,
   "metadata": {},
   "outputs": [
    {
     "name": "stdout",
     "output_type": "stream",
     "text": [
      "Output shape: torch.Size([128, 6, 24, 24])\n",
      "Unique mask values for first two samples:\n",
      "Are masks for first two samples identical? False\n"
     ]
    }
   ],
   "source": [
    "model = GatedConvNet()\n",
    "output = model(x)\n",
    "print(\"Output shape:\", output.shape)\n",
    "\n",
    "# Demonstrating that each sample in the batch gets a different mask\n",
    "masks = model.hyper(x)\n",
    "print(\"Unique mask values for first two samples:\")\n",
    "print(\"Are masks for first two samples identical?\", torch.allclose(masks[0], masks[1]))"
   ]
  },
  {
   "cell_type": "code",
   "execution_count": 26,
   "metadata": {},
   "outputs": [],
   "source": [
    "Ys = []\n",
    "for x, y in train_loader:\n",
    "    Ys.append(y.numpy())"
   ]
  },
  {
   "cell_type": "code",
   "execution_count": 21,
   "metadata": {},
   "outputs": [
    {
     "data": {
      "text/plain": [
       "tensor([  8,  14,  25, 673,   0,   7,   4,   3,   4,  41,   9,   0,   9,   5,\n",
       "          0,   8,   5,   3,   5, 391,   9,   5, 162, 811,   2,   9, 599,   6,\n",
       "          3, 690,   0,   5,   0,   9, 848,   9,  53, 508,   7,   2,   8,   1,\n",
       "          6, 610,   3, 349,   9,   5,   0,   6,   3,   9,   0,   6,   4,   6,\n",
       "        232, 341,   4,   9, 430,   5, 151,   7,   2,   0,   7,   0,   2,  95,\n",
       "          1, 473,   9,   2,   0, 922,   2, 736,   7,   1,   8,  22,   8,   0,\n",
       "        824,   6,   1,   6,   6,   3,   9,   9,   3,   8,   6,   9,   1,   9,\n",
       "        249,   5,   3,   9,   8,   4,   7,   3,   4,   3,   6,   3,   9,   5,\n",
       "          3, 925, 541,   4, 590,  87,   1,   9,   5, 527,   1,   9,   1, 642,\n",
       "          0,   9])"
      ]
     },
     "execution_count": 21,
     "metadata": {},
     "output_type": "execute_result"
    }
   ],
   "source": [
    "y"
   ]
  },
  {
   "cell_type": "code",
   "execution_count": 7,
   "metadata": {},
   "outputs": [],
   "source": [
    "masks = model.hypernetwork(x)"
   ]
  },
  {
   "cell_type": "code",
   "execution_count": 11,
   "metadata": {},
   "outputs": [
    {
     "data": {
      "text/plain": [
       "torch.Size([128, 150])"
      ]
     },
     "execution_count": 11,
     "metadata": {},
     "output_type": "execute_result"
    }
   ],
   "source": [
    "masks[0].shape"
   ]
  },
  {
   "cell_type": "code",
   "execution_count": 13,
   "metadata": {},
   "outputs": [
    {
     "data": {
      "text/plain": [
       "torch.Size([6, 1, 5, 5])"
      ]
     },
     "execution_count": 13,
     "metadata": {},
     "output_type": "execute_result"
    }
   ],
   "source": [
    "model.backbone.conv1.weight.shape"
   ]
  },
  {
   "cell_type": "code",
   "execution_count": 15,
   "metadata": {},
   "outputs": [],
   "source": [
    "from functorch import vmap"
   ]
  },
  {
   "cell_type": "code",
   "execution_count": null,
   "metadata": {},
   "outputs": [],
   "source": [
    "vmap"
   ]
  },
  {
   "cell_type": "code",
   "execution_count": 10,
   "metadata": {},
   "outputs": [
    {
     "ename": "TypeError",
     "evalue": "super(type, obj): obj must be an instance or subtype of type",
     "output_type": "error",
     "traceback": [
      "\u001b[1;31m---------------------------------------------------------------------------\u001b[0m",
      "\u001b[1;31mTypeError\u001b[0m                                 Traceback (most recent call last)",
      "Cell \u001b[1;32mIn[10], line 1\u001b[0m\n\u001b[1;32m----> 1\u001b[0m model \u001b[38;5;241m=\u001b[39m \u001b[43mGatedLeNet\u001b[49m\u001b[43m(\u001b[49m\u001b[43m)\u001b[49m\n\u001b[0;32m      2\u001b[0m input_tensor \u001b[38;5;241m=\u001b[39m torch\u001b[38;5;241m.\u001b[39mrandn(\u001b[38;5;241m32\u001b[39m, \u001b[38;5;241m1\u001b[39m, \u001b[38;5;241m28\u001b[39m, \u001b[38;5;241m28\u001b[39m)  \u001b[38;5;66;03m# Batch of 32 grayscale images of size 28x28\u001b[39;00m\n\u001b[0;32m      3\u001b[0m output \u001b[38;5;241m=\u001b[39m model(input_tensor)\n",
      "Cell \u001b[1;32mIn[9], line 4\u001b[0m, in \u001b[0;36mGatedLeNet.__init__\u001b[1;34m(self, num_classes)\u001b[0m\n\u001b[0;32m      2\u001b[0m \u001b[38;5;28;01mdef\u001b[39;00m \u001b[38;5;21m__init__\u001b[39m(\u001b[38;5;28mself\u001b[39m, num_classes\u001b[38;5;241m=\u001b[39m\u001b[38;5;241m10\u001b[39m):\n\u001b[0;32m      3\u001b[0m     \u001b[38;5;28msuper\u001b[39m(GatedLeNet, \u001b[38;5;28mself\u001b[39m)\u001b[38;5;241m.\u001b[39m\u001b[38;5;21m__init__\u001b[39m()\n\u001b[1;32m----> 4\u001b[0m     \u001b[38;5;28mself\u001b[39m\u001b[38;5;241m.\u001b[39mhypernetwork \u001b[38;5;241m=\u001b[39m \u001b[43mHyperNetwork\u001b[49m\u001b[43m(\u001b[49m\u001b[43mnum_classes\u001b[49m\u001b[38;5;241;43m=\u001b[39;49m\u001b[43mnum_classes\u001b[49m\u001b[43m)\u001b[49m\n\u001b[0;32m      5\u001b[0m     \u001b[38;5;28mself\u001b[39m\u001b[38;5;241m.\u001b[39mbackbone \u001b[38;5;241m=\u001b[39m LeNetBackbone(num_classes\u001b[38;5;241m=\u001b[39mnum_classes)\n",
      "File \u001b[1;32mc:\\Users\\aresf\\Desktop\\Code\\HyperMask\\notebooks\\..\\src\\models.py:17\u001b[0m, in \u001b[0;36mHyperNetwork.__init__\u001b[1;34m(self, input_channels, conv1_output, conv2_output, fc1_output, fc2_output, num_classes)\u001b[0m\n\u001b[0;32m      8\u001b[0m \u001b[38;5;28;01mdef\u001b[39;00m \u001b[38;5;21m__init__\u001b[39m(\n\u001b[0;32m      9\u001b[0m     \u001b[38;5;28mself\u001b[39m,\n\u001b[0;32m     10\u001b[0m     input_channels\u001b[38;5;241m=\u001b[39m\u001b[38;5;241m1\u001b[39m,\n\u001b[1;32m   (...)\u001b[0m\n\u001b[0;32m     15\u001b[0m     num_classes\u001b[38;5;241m=\u001b[39m\u001b[38;5;241m10\u001b[39m,\n\u001b[0;32m     16\u001b[0m ):\n\u001b[1;32m---> 17\u001b[0m     \u001b[38;5;28;43msuper\u001b[39;49m\u001b[43m(\u001b[49m\u001b[43mHyperNetwork\u001b[49m\u001b[43m,\u001b[49m\u001b[43m \u001b[49m\u001b[38;5;28;43mself\u001b[39;49m\u001b[43m)\u001b[49m\u001b[38;5;241m.\u001b[39m\u001b[38;5;21m__init__\u001b[39m()\n\u001b[0;32m     19\u001b[0m     \u001b[38;5;28mself\u001b[39m\u001b[38;5;241m.\u001b[39mconv1 \u001b[38;5;241m=\u001b[39m nn\u001b[38;5;241m.\u001b[39mConv2d(input_channels, \u001b[38;5;241m32\u001b[39m, kernel_size\u001b[38;5;241m=\u001b[39m\u001b[38;5;241m3\u001b[39m, padding\u001b[38;5;241m=\u001b[39m\u001b[38;5;241m1\u001b[39m)\n\u001b[0;32m     20\u001b[0m     \u001b[38;5;28mself\u001b[39m\u001b[38;5;241m.\u001b[39mconv2 \u001b[38;5;241m=\u001b[39m nn\u001b[38;5;241m.\u001b[39mConv2d(\u001b[38;5;241m32\u001b[39m, \u001b[38;5;241m64\u001b[39m, kernel_size\u001b[38;5;241m=\u001b[39m\u001b[38;5;241m3\u001b[39m, padding\u001b[38;5;241m=\u001b[39m\u001b[38;5;241m1\u001b[39m)\n",
      "\u001b[1;31mTypeError\u001b[0m: super(type, obj): obj must be an instance or subtype of type"
     ]
    }
   ],
   "source": [
    "model = GatedLeNet()\n",
    "input_tensor = torch.randn(32, 1, 28, 28)  # Batch of 32 grayscale images of size 28x28\n",
    "output = model(input_tensor)"
   ]
  },
  {
   "cell_type": "code",
   "execution_count": 11,
   "metadata": {},
   "outputs": [],
   "source": [
    "mask_conv1, mask_conv2, mask_fc1, mask_fc2, mask_fc3 = model.hypernetwork(x)"
   ]
  },
  {
   "cell_type": "code",
   "execution_count": 12,
   "metadata": {},
   "outputs": [
    {
     "data": {
      "text/plain": [
       "[torch.Size([128, 150]),\n",
       " torch.Size([128, 2400]),\n",
       " torch.Size([128, 48000]),\n",
       " torch.Size([128, 10080]),\n",
       " torch.Size([128, 840])]"
      ]
     },
     "execution_count": 12,
     "metadata": {},
     "output_type": "execute_result"
    }
   ],
   "source": [
    "[x.shape for x in masks]"
   ]
  },
  {
   "cell_type": "code",
   "execution_count": 14,
   "metadata": {},
   "outputs": [
    {
     "data": {
      "text/plain": [
       "torch.Size([128, 150])"
      ]
     },
     "execution_count": 14,
     "metadata": {},
     "output_type": "execute_result"
    }
   ],
   "source": [
    "mask_conv1.shape"
   ]
  },
  {
   "cell_type": "code",
   "execution_count": null,
   "metadata": {},
   "outputs": [],
   "source": []
  }
 ],
 "metadata": {
  "kernelspec": {
   "display_name": "pytorch",
   "language": "python",
   "name": "python3"
  },
  "language_info": {
   "codemirror_mode": {
    "name": "ipython",
    "version": 3
   },
   "file_extension": ".py",
   "mimetype": "text/x-python",
   "name": "python",
   "nbconvert_exporter": "python",
   "pygments_lexer": "ipython3",
   "version": "3.9.18"
  }
 },
 "nbformat": 4,
 "nbformat_minor": 2
}
